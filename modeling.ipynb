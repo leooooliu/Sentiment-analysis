{
  "nbformat": 4,
  "nbformat_minor": 0,
  "metadata": {
    "colab": {
      "name": "modeling",
      "version": "0.3.2",
      "provenance": [],
      "collapsed_sections": []
    },
    "kernelspec": {
      "name": "python3",
      "display_name": "Python 3"
    },
    "accelerator": "GPU"
  },
  "cells": [
    {
      "metadata": {
        "id": "A2UV-RNA3nsd",
        "colab_type": "code",
        "colab": {}
      },
      "cell_type": "code",
      "source": [
        "\n",
        "# Load the Drive helper and mount\n",
        "from google.colab import drive\n",
        "\n",
        "# # This will prompt for authorization.\n",
        "drive.mount('/content/drive')\n",
        "\n",
        "# 1. click the link below and authorize it in google drive \n",
        "# 2. paste the link in tq he white box7lñ.ijkughtydesw"
      ],
      "execution_count": 0,
      "outputs": []
    },
    {
      "metadata": {
        "id": "IFcWsrIR9ZHw",
        "colab_type": "code",
        "colab": {}
      },
      "cell_type": "code",
      "source": [
        "import pandas as pd\n",
        "import numpy as np\n",
        "import cv2\n",
        "from sklearn.model_selection import train_test_split\n",
        "from sklearn.model_selection import train_test_split\n",
        "from keras.models import Sequential\n",
        "from keras.layers import Dense, Dropout, Activation, Flatten\n",
        "from keras.layers import Conv2D, MaxPooling2D, BatchNormalization\n",
        "from keras.losses import categorical_crossentropy\n",
        "from keras.optimizers import Adam\n",
        "from keras.callbacks import ReduceLROnPlateau, TensorBoard, EarlyStopping, ModelCheckpoint\n",
        "\n",
        "import cv2\n",
        "import numpy as np\n",
        "import pandas as pd\n",
        "%matplotlib inline\n",
        "from matplotlib import pyplot as plt\n",
        "from sklearn.metrics import confusion_matrix\n",
        "import os\n",
        "#os.chdir(\"Manually_Annotated_Images/\")\n",
        "\n",
        "os.chdir(\"/content/drive/My Drive/Networkly/Emotion/Datasets/AffectNet_Database/Manually_Annotated_compressed/Manually_Annotated_Images/\")\n",
        "\n",
        "os.listdir('/content')\n",
        "import collections\n",
        "from sklearn.utils import shuffle"
      ],
      "execution_count": 0,
      "outputs": []
    },
    {
      "metadata": {
        "id": "D4ni_yUguOaj",
        "colab_type": "text"
      },
      "cell_type": "markdown",
      "source": [
        "# Build models "
      ]
    },
    {
      "metadata": {
        "id": "8GczkBxqkh0a",
        "colab_type": "code",
        "colab": {}
      },
      "cell_type": "code",
      "source": [
        "def load_data():\n",
        "  print('loading data....')\n",
        "  images=np.load('11_1_final_images_combine_all_history.npy')\n",
        "  labels=np.load('11_1_final_labels_combine_all_history.npy')\n",
        "  # [i for i in os.listdir(os.getcwd()) if i.startswith('11_')]\n",
        "  data_dir={0: 'Neutral', 1: 'Happiness', 2: 'Sadness', 3: 'Surprise', 4: 'Fear', 5: 'Disgust', 6: 'Anger',\n",
        "            7: 'Contempt', 8: 'None', 9: 'Uncertain', 10: 'No-Face'}\n",
        "# count label \n",
        "  print('number of expressions')\n",
        "  cnt=collections.Counter(labels)\n",
        "  for idx,num in cnt.items():\n",
        "    print(\"{} {} faces\".format(num,data_dir.get(idx)))\n",
        "  labels = pd.get_dummies(labels, sparse=True)\n",
        "  images = np.expand_dims(images, axis=3)\n",
        "\n",
        "  images, labels = shuffle(images, labels, random_state=0)\n",
        "  X_train, X_test, y_train, y_test = train_test_split(images, labels, test_size=0.3, random_state=42)\n",
        "#   release memory\n",
        "  del labels, images\n",
        "  return X_train, X_test, y_train, y_test\n",
        "\n",
        "def print_memory():\n",
        "  import sys\n",
        "  for var, obj in locals().items():\n",
        "    if sys.getsizeof(obj)>5000:\n",
        "      print (var, sys.getsizeof(obj),end='')\n",
        "\n",
        "def build_model(num_features = 64,num_labels = 8,input_shape=(128, 128, 1)):\n",
        "\n",
        "  model = Sequential()\n",
        "\n",
        "  model.add(Conv2D(num_features, kernel_size=(3, 3), activation='relu', input_shape=input_shape, data_format='channels_last'))\n",
        "  model.add(Conv2D(num_features, kernel_size=(3, 3), activation='relu', padding='same'))\n",
        "  model.add(BatchNormalization())\n",
        "  model.add(MaxPooling2D(pool_size=(2, 2), strides=(2, 2)))\n",
        "  model.add(Dropout(0.5))\n",
        "\n",
        "  model.add(Conv2D(2*num_features, kernel_size=(3, 3), activation='relu', padding='same'))\n",
        "  model.add(BatchNormalization())\n",
        "  model.add(Conv2D(2*num_features, kernel_size=(3, 3), activation='relu', padding='same'))\n",
        "  model.add(BatchNormalization())\n",
        "  model.add(MaxPooling2D(pool_size=(2, 2), strides=(2, 2)))\n",
        "  model.add(Dropout(0.5))\n",
        "\n",
        "  model.add(Conv2D(2*2*num_features, kernel_size=(3, 3), activation='relu', padding='same'))\n",
        "  model.add(BatchNormalization())\n",
        "  model.add(Conv2D(2*2*num_features, kernel_size=(3, 3), activation='relu', padding='same'))\n",
        "  model.add(BatchNormalization())\n",
        "  model.add(MaxPooling2D(pool_size=(2, 2), strides=(2, 2)))\n",
        "  model.add(Dropout(0.5))\n",
        "\n",
        "  model.add(Conv2D(2*2*2*num_features, kernel_size=(3, 3), activation='relu', padding='same'))\n",
        "  model.add(BatchNormalization())\n",
        "  model.add(Conv2D(2*2*2*num_features, kernel_size=(3, 3), activation='relu', padding='same'))\n",
        "  model.add(BatchNormalization())\n",
        "  model.add(MaxPooling2D(pool_size=(2, 2), strides=(2, 2)))\n",
        "  model.add(Dropout(0.5))\n",
        "\n",
        "  model.add(Flatten())\n",
        "\n",
        "  model.add(Dense(2*2*2*num_features, activation='relu'))\n",
        "  model.add(Dropout(0.4))\n",
        "  model.add(Dense(2*2*num_features, activation='relu'))\n",
        "  model.add(Dropout(0.4))\n",
        "  model.add(Dense(2*num_features, activation='relu'))\n",
        "  model.add(Dropout(0.5))\n",
        "\n",
        "  model.add(Dense(num_labels, activation='softmax'))\n",
        "  # model.summary()\n",
        "\n",
        "  model.compile(loss=categorical_crossentropy,\n",
        "                optimizer=Adam(lr=0.001, beta_1=0.9, beta_2=0.999, epsilon=1e-7),\n",
        "                metrics=['accuracy'])\n",
        "  return model\n",
        "\n",
        "def fit_model(patience=8,batch_size=200,epochs = 50):\n",
        "  lr_reducer = ReduceLROnPlateau(monitor='val_loss', factor=0.9, patience=3, verbose=1)\n",
        "  early_stopper = EarlyStopping(monitor='val_loss', min_delta=0, patience=patience, verbose=1, mode='auto')\n",
        "  output_path='/content/drive/My Drive/Networkly/Emotion/11_4_weights.hdf5'\n",
        "  checkpointer = ModelCheckpoint(output_path, monitor='val_loss', verbose=1, save_best_only=True)\n",
        "  model.fit(np.array(X_train), np.array(y_train),\n",
        "        batch_size=batch_size,\n",
        "        epochs=epochs,\n",
        "        verbose=1,\n",
        "        validation_data=(np.array(X_test), np.array(y_test)),\n",
        "        shuffle=True,\n",
        "        callbacks=[lr_reducer, early_stopper, checkpointer])"
      ],
      "execution_count": 0,
      "outputs": []
    },
    {
      "metadata": {
        "id": "USM0KQwGFb1Q",
        "colab_type": "code",
        "colab": {}
      },
      "cell_type": "code",
      "source": [
        "os.listdir(os.getcwd())"
      ],
      "execution_count": 0,
      "outputs": []
    },
    {
      "metadata": {
        "id": "B84uYI49m2Zg",
        "colab_type": "code",
        "colab": {}
      },
      "cell_type": "code",
      "source": [
        "# Run loading data and build models\n",
        "# X_train, X_test, y_train, y_test=load_data()\n",
        "\n",
        "# model=build_model()\n",
        "path='/content/drive/My Drive/Networkly/Emotion/11_4_weights.hdf5'\n",
        "model.load_weights(path)"
      ],
      "execution_count": 0,
      "outputs": []
    },
    {
      "metadata": {
        "id": "do9D240YnXgt",
        "colab_type": "code",
        "outputId": "43b199f3-4f1a-48a9-a963-94b533a56e99",
        "colab": {
          "base_uri": "https://localhost:8080/",
          "height": 731
        }
      },
      "cell_type": "code",
      "source": [
        "\n",
        "fit_model(batch_size=200,epochs=200)"
      ],
      "execution_count": 0,
      "outputs": [
        {
          "output_type": "stream",
          "text": [
            "Train on 104393 samples, validate on 44741 samples\n",
            "Epoch 1/200\n",
            "104393/104393 [==============================] - 1069s 10ms/step - loss: 0.5208 - acc: 0.8239 - val_loss: 0.7705 - val_acc: 0.7515\n",
            "\n",
            "Epoch 00001: val_loss improved from inf to 0.77052, saving model to /content/drive/My Drive/Networkly/Emotion/11_4_weights.hdf5\n",
            "Epoch 2/200\n",
            "104393/104393 [==============================] - 1047s 10ms/step - loss: 0.5043 - acc: 0.8292 - val_loss: 0.8082 - val_acc: 0.7393\n",
            "\n",
            "Epoch 00002: val_loss did not improve from 0.77052\n",
            "Epoch 3/200\n",
            "104393/104393 [==============================] - 1047s 10ms/step - loss: 0.4959 - acc: 0.8348 - val_loss: 0.7922 - val_acc: 0.7481\n",
            "\n",
            "Epoch 00003: val_loss did not improve from 0.77052\n",
            "Epoch 4/200\n",
            "104393/104393 [==============================] - 1048s 10ms/step - loss: 0.4765 - acc: 0.8407 - val_loss: 0.7979 - val_acc: 0.7540\n",
            "\n",
            "Epoch 00004: ReduceLROnPlateau reducing learning rate to 0.0009000000427477062.\n",
            "\n",
            "Epoch 00004: val_loss did not improve from 0.77052\n",
            "Epoch 5/200\n",
            "104393/104393 [==============================] - 1048s 10ms/step - loss: 0.4598 - acc: 0.8477 - val_loss: 0.7952 - val_acc: 0.7560\n",
            "\n",
            "Epoch 00005: val_loss did not improve from 0.77052\n",
            "Epoch 6/200\n",
            "104393/104393 [==============================] - 1048s 10ms/step - loss: 0.4408 - acc: 0.8523 - val_loss: 0.7858 - val_acc: 0.7543\n",
            "\n",
            "Epoch 00006: val_loss did not improve from 0.77052\n",
            "Epoch 7/200\n",
            "104393/104393 [==============================] - 1047s 10ms/step - loss: 0.4352 - acc: 0.8557 - val_loss: 0.7891 - val_acc: 0.7559\n",
            "\n",
            "Epoch 00007: ReduceLROnPlateau reducing learning rate to 0.0008100000384729356.\n",
            "\n",
            "Epoch 00007: val_loss did not improve from 0.77052\n",
            "Epoch 8/200\n",
            "104393/104393 [==============================] - 1047s 10ms/step - loss: 0.4146 - acc: 0.8630 - val_loss: 0.7979 - val_acc: 0.7592\n",
            "\n",
            "Epoch 00008: val_loss did not improve from 0.77052\n",
            "Epoch 9/200\n",
            "104393/104393 [==============================] - 1048s 10ms/step - loss: 0.4011 - acc: 0.8677 - val_loss: 0.8195 - val_acc: 0.7618\n",
            "\n",
            "Epoch 00009: val_loss did not improve from 0.77052\n",
            "Epoch 00009: early stopping\n"
          ],
          "name": "stdout"
        }
      ]
    },
    {
      "metadata": {
        "id": "kgPmU2KlLDfv",
        "colab_type": "code",
        "colab": {}
      },
      "cell_type": "code",
      "source": [
        "from shutil import copyfile\n",
        "copyfile('/content/weights.hdf5',os.path.join(os.getcwd(),'11_3_weights.hdf5'))\n",
        "import glob\n",
        "glob.glob(os.path.join(os.getcwd(),'*.hdf5'))"
      ],
      "execution_count": 0,
      "outputs": []
    },
    {
      "metadata": {
        "id": "i_aaMW9RNDdM",
        "colab_type": "code",
        "colab": {}
      },
      "cell_type": "code",
      "source": [
        "model.save_weights(os.path.join(os.getcwd(),'best11_3_weights.hdf5'))"
      ],
      "execution_count": 0,
      "outputs": []
    },
    {
      "metadata": {
        "id": "7JH_UGLVm3AZ",
        "colab_type": "text"
      },
      "cell_type": "markdown",
      "source": [
        "# Model evaluation"
      ]
    },
    {
      "metadata": {
        "id": "7rMajjLlXhnL",
        "colab_type": "code",
        "colab": {}
      },
      "cell_type": "code",
      "source": [
        "\n",
        "#     model=build_model()\n",
        "    model.load_weights(os.path.join(os.getcwd(),'11_3_weights.hdf5'))"
      ],
      "execution_count": 0,
      "outputs": []
    },
    {
      "metadata": {
        "id": "iNz44_nHobHU",
        "colab_type": "code",
        "colab": {}
      },
      "cell_type": "code",
      "source": [
        "def plot_confusion_matrix():\n",
        "\n",
        "  from sklearn.metrics import confusion_matrix\n",
        "  from sklearn.metrics import accuracy_score\n",
        "  import seaborn as sns\n",
        "\n",
        "  # print overall accuray \n",
        "  print(\"Predicting train data....\")\n",
        "  Y_train_pred=model.predict(X_train)\n",
        "  print(\"Predicting test data....\")\n",
        "  Y_test_pred=model.predict(X_test)\n",
        "  \n",
        "  data_dir={0: 'Neutral', 1: 'Happiness', 2: 'Sadness', 3: 'Surprise', 4: 'Fear', 5: 'Disgust', 6: 'Anger',\n",
        "            7: 'Contempt', 8: 'None', 9: 'Uncertain', 10: 'No-Face'}\n",
        "  test_accuray=accuracy_score(y_test.idxmax(axis=1), Y_test_pred.argmax(axis=1))\n",
        "  train_accuray=accuracy_score(y_train.idxmax(axis=1), Y_train_pred.argmax(axis=1))\n",
        "  print(\"train score:  {}\" .format (train_accuray))\n",
        "  print(\"test score:   {} \".format (test_accuray))\n",
        "  \n",
        "# print confusion matrix\n",
        "  conf_mat = confusion_matrix(\n",
        "      y_test.values.argmax(axis=1), Y_test_pred.argmax(axis=1))\n",
        "  sns.heatmap(conf_mat, annot=True, fmt='d',\n",
        "              xticklabels=list(data_dir.values())[:8], yticklabels=list(data_dir.values())[:8])\n",
        "  plt.ylabel('Actual')\n",
        "  plt.xlabel('Predicted')\n",
        "  plt.xticks(rotation=45)\n",
        "  plt.title('confusion matrix of test dataset')\n",
        "  return Y_train_pred,Y_test_pred"
      ],
      "execution_count": 0,
      "outputs": []
    },
    {
      "metadata": {
        "id": "DPUY6dybKnZ5",
        "colab_type": "code",
        "outputId": "4e3ddc93-05f0-4f9b-a497-6ce5b852ed50",
        "colab": {
          "base_uri": "https://localhost:8080/",
          "height": 393
        }
      },
      "cell_type": "code",
      "source": [
        "Y_train_pred,Y_test_pred=plot_confusion_matrix()"
      ],
      "execution_count": 0,
      "outputs": [
        {
          "output_type": "stream",
          "text": [
            "Predicting train data....\n",
            "Predicting test data....\n",
            "train score:  0.9210004502217581\n",
            "test score:   0.7479940099684853 \n"
          ],
          "name": "stdout"
        },
        {
          "output_type": "display_data",
          "data": {
            "image/png": "[encoded data removed]",
            "text/plain": [
              "<matplotlib.figure.Figure at 0x7f7aac7279e8>"
            ]
          },
          "metadata": {
            "tags": []
          }
        }
      ]
    },
    {
      "metadata": {
        "id": "amLL_xrAb7BX",
        "colab_type": "code",
        "colab": {}
      },
      "cell_type": "code",
      "source": [
        "test=y_test.idxmax(axis=1)\n",
        "pred=Y_test_pred.argmax(axis=1)"
      ],
      "execution_count": 0,
      "outputs": []
    },
    {
      "metadata": {
        "id": "bFgGsMHRdtV0",
        "colab_type": "code",
        "colab": {}
      },
      "cell_type": "code",
      "source": [
        "cmp=pd.DataFrame({'test':test.values,'pred':pred})"
      ],
      "execution_count": 0,
      "outputs": []
    },
    {
      "metadata": {
        "id": "sQnzvhoUeXzS",
        "colab_type": "code",
        "colab": {}
      },
      "cell_type": "code",
      "source": [
        "anger_neau=cmp[(cmp.pred==6)&(cmp.test==6)].index\n",
        "sad_neau=cmp[(cmp.pred==2)&(cmp.test==0)].index"
      ],
      "execution_count": 0,
      "outputs": []
    },
    {
      "metadata": {
        "id": "mLyWRLw_1IOS",
        "colab_type": "code",
        "outputId": "22858478-8330-4cf8-bc8d-5ca5dce4691b",
        "colab": {
          "base_uri": "https://localhost:8080/",
          "height": 34
        }
      },
      "cell_type": "code",
      "source": [
        "X_test.shape"
      ],
      "execution_count": 0,
      "outputs": [
        {
          "output_type": "execute_result",
          "data": {
            "text/plain": [
              "(44741, 128, 128, 1)"
            ]
          },
          "metadata": {
            "tags": []
          },
          "execution_count": 81
        }
      ]
    },
    {
      "metadata": {
        "id": "Ii6B4QNkxYT3",
        "colab_type": "code",
        "colab": {}
      },
      "cell_type": "code",
      "source": [
        "anger_neau_img=X_test[anger_neau]"
      ],
      "execution_count": 0,
      "outputs": []
    },
    {
      "metadata": {
        "id": "Gf49vTdYoApP",
        "colab_type": "text"
      },
      "cell_type": "markdown",
      "source": [
        "# use data augmentation"
      ]
    },
    {
      "metadata": {
        "id": "Zh4mn39UoCrJ",
        "colab_type": "code",
        "colab": {}
      },
      "cell_type": "code",
      "source": [
        "from keras.preprocessing.image import ImageDataGenerator\n",
        "datagen = ImageDataGenerator(rescale=1./255,\n",
        "                                 rotation_range=10,\n",
        "                                 shear_range=0.2,\n",
        "                                 width_shift_range=0.2,\n",
        "                                 height_shift_range=0.2,\n",
        "                                 horizontal_flip=True)\n"
      ],
      "execution_count": 0,
      "outputs": []
    },
    {
      "metadata": {
        "id": "f92g4sCqBrhL",
        "colab_type": "code",
        "colab": {}
      },
      "cell_type": "code",
      "source": [
        "train_gen=datagen.fit(train)"
      ],
      "execution_count": 0,
      "outputs": []
    },
    {
      "metadata": {
        "id": "yLoeB25KBrm_",
        "colab_type": "code",
        "colab": {}
      },
      "cell_type": "code",
      "source": [
        "datagen.fit(X_train)"
      ],
      "execution_count": 0,
      "outputs": []
    },
    {
      "metadata": {
        "id": "XC1I2p7wHFUw",
        "colab_type": "code",
        "colab": {}
      },
      "cell_type": "code",
      "source": [
        " \n",
        "%%time\n",
        "batch_size = 200\n",
        "epochs = 50\n",
        "\n",
        "model.fit_generator(datagen.flow(X_train, y_train, batch_size=batch_size),\n",
        "        epochs=epochs,samples_per_epoch=len(X_train),\n",
        "        verbose=1,\n",
        "        validation_data=(np.array(X_test), np.array(y_test)),\n",
        "#         shuffle=True,\n",
        "        callbacks=[lr_reducer, early_stopper, checkpointer])\n",
        "  "
      ],
      "execution_count": 0,
      "outputs": []
    },
    {
      "metadata": {
        "id": "_kyQCDhiYd0s",
        "colab_type": "code",
        "colab": {}
      },
      "cell_type": "code",
      "source": [
        ""
      ],
      "execution_count": 0,
      "outputs": []
    }
  ]
}